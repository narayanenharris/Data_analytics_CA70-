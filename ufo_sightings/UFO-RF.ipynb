{
 "cells": [
  {
   "cell_type": "code",
   "execution_count": 253,
   "id": "608d9c3e",
   "metadata": {},
   "outputs": [],
   "source": [
    "#importing libraries\n",
    "\n",
    "import pandas as pd\n",
    "import matplotlib.pyplot as plt\n",
    "import seaborn as sns\n",
    "from sklearn.model_selection import train_test_split, GridSearchCV\n",
    "from sklearn.ensemble import RandomForestClassifier\n",
    "from sklearn.preprocessing import LabelEncoder, StandardScaler\n",
    "from sklearn.metrics import accuracy_score, classification_report, confusion_matrix\n",
    "from sklearn.feature_extraction.text import TfidfVectorizer\n",
    "from sklearn.utils import resample"
   ]
  },
  {
   "cell_type": "code",
   "execution_count": 254,
   "id": "10969061",
   "metadata": {},
   "outputs": [],
   "source": [
    "#load the data\n",
    "\n",
    "df = pd.read_csv(\n",
    "    \"C:/Users/Shraddha Gawade/Downloads/complete.csv/complete.csv\",\n",
    "    dtype={'duration (seconds)': str},  # Prevent mixed-type warning\n",
    "    low_memory=False\n",
    ")\n",
    "\n",
    "#clean column names\n",
    "df.columns = df.columns.str.strip()"
   ]
  },
  {
   "cell_type": "code",
   "execution_count": 255,
   "id": "323ba739",
   "metadata": {},
   "outputs": [
    {
     "name": "stdout",
     "output_type": "stream",
     "text": [
      "<class 'pandas.core.frame.DataFrame'>\n",
      "RangeIndex: 88875 entries, 0 to 88874\n",
      "Data columns (total 12 columns):\n",
      " #   Column                Non-Null Count  Dtype  \n",
      "---  ------                --------------  -----  \n",
      " 0   datetime              88875 non-null  object \n",
      " 1   city                  88679 non-null  object \n",
      " 2   state                 81356 non-null  object \n",
      " 3   country               76314 non-null  object \n",
      " 4   shape                 85757 non-null  object \n",
      " 5   duration (seconds)    88873 non-null  object \n",
      " 6   duration (hours/min)  85772 non-null  object \n",
      " 7   comments              88749 non-null  object \n",
      " 8   date posted           88875 non-null  object \n",
      " 9   latitude              88875 non-null  object \n",
      " 10  longitude             88875 non-null  float64\n",
      " 11  Unnamed: 11           196 non-null    float64\n",
      "dtypes: float64(2), object(10)\n",
      "memory usage: 8.1+ MB\n"
     ]
    }
   ],
   "source": [
    "#find the number of columns and rows\n",
    "df.info()"
   ]
  },
  {
   "cell_type": "code",
   "execution_count": 256,
   "id": "f7c8cdc5",
   "metadata": {},
   "outputs": [
    {
     "data": {
      "text/html": [
       "<div>\n",
       "<style scoped>\n",
       "    .dataframe tbody tr th:only-of-type {\n",
       "        vertical-align: middle;\n",
       "    }\n",
       "\n",
       "    .dataframe tbody tr th {\n",
       "        vertical-align: top;\n",
       "    }\n",
       "\n",
       "    .dataframe thead th {\n",
       "        text-align: right;\n",
       "    }\n",
       "</style>\n",
       "<table border=\"1\" class=\"dataframe\">\n",
       "  <thead>\n",
       "    <tr style=\"text-align: right;\">\n",
       "      <th></th>\n",
       "      <th>longitude</th>\n",
       "      <th>Unnamed: 11</th>\n",
       "    </tr>\n",
       "  </thead>\n",
       "  <tbody>\n",
       "    <tr>\n",
       "      <th>count</th>\n",
       "      <td>88875.000000</td>\n",
       "      <td>196.0</td>\n",
       "    </tr>\n",
       "    <tr>\n",
       "      <th>mean</th>\n",
       "      <td>-84.834334</td>\n",
       "      <td>0.0</td>\n",
       "    </tr>\n",
       "    <tr>\n",
       "      <th>std</th>\n",
       "      <td>41.567822</td>\n",
       "      <td>0.0</td>\n",
       "    </tr>\n",
       "    <tr>\n",
       "      <th>min</th>\n",
       "      <td>-176.658056</td>\n",
       "      <td>0.0</td>\n",
       "    </tr>\n",
       "    <tr>\n",
       "      <th>25%</th>\n",
       "      <td>-112.046944</td>\n",
       "      <td>0.0</td>\n",
       "    </tr>\n",
       "    <tr>\n",
       "      <th>50%</th>\n",
       "      <td>-87.650000</td>\n",
       "      <td>0.0</td>\n",
       "    </tr>\n",
       "    <tr>\n",
       "      <th>75%</th>\n",
       "      <td>-77.615833</td>\n",
       "      <td>0.0</td>\n",
       "    </tr>\n",
       "    <tr>\n",
       "      <th>max</th>\n",
       "      <td>178.441900</td>\n",
       "      <td>0.0</td>\n",
       "    </tr>\n",
       "  </tbody>\n",
       "</table>\n",
       "</div>"
      ],
      "text/plain": [
       "          longitude  Unnamed: 11\n",
       "count  88875.000000        196.0\n",
       "mean     -84.834334          0.0\n",
       "std       41.567822          0.0\n",
       "min     -176.658056          0.0\n",
       "25%     -112.046944          0.0\n",
       "50%      -87.650000          0.0\n",
       "75%      -77.615833          0.0\n",
       "max      178.441900          0.0"
      ]
     },
     "execution_count": 256,
     "metadata": {},
     "output_type": "execute_result"
    }
   ],
   "source": [
    "#describe the columns\n",
    "df.describe()"
   ]
  },
  {
   "cell_type": "code",
   "execution_count": 257,
   "id": "83f539f7",
   "metadata": {},
   "outputs": [
    {
     "data": {
      "text/html": [
       "<div>\n",
       "<style scoped>\n",
       "    .dataframe tbody tr th:only-of-type {\n",
       "        vertical-align: middle;\n",
       "    }\n",
       "\n",
       "    .dataframe tbody tr th {\n",
       "        vertical-align: top;\n",
       "    }\n",
       "\n",
       "    .dataframe thead th {\n",
       "        text-align: right;\n",
       "    }\n",
       "</style>\n",
       "<table border=\"1\" class=\"dataframe\">\n",
       "  <thead>\n",
       "    <tr style=\"text-align: right;\">\n",
       "      <th></th>\n",
       "      <th>datetime</th>\n",
       "      <th>city</th>\n",
       "      <th>state</th>\n",
       "      <th>country</th>\n",
       "      <th>shape</th>\n",
       "      <th>duration (seconds)</th>\n",
       "      <th>duration (hours/min)</th>\n",
       "      <th>comments</th>\n",
       "      <th>date posted</th>\n",
       "      <th>latitude</th>\n",
       "      <th>longitude</th>\n",
       "      <th>Unnamed: 11</th>\n",
       "    </tr>\n",
       "  </thead>\n",
       "  <tbody>\n",
       "    <tr>\n",
       "      <th>0</th>\n",
       "      <td>False</td>\n",
       "      <td>False</td>\n",
       "      <td>False</td>\n",
       "      <td>False</td>\n",
       "      <td>False</td>\n",
       "      <td>False</td>\n",
       "      <td>False</td>\n",
       "      <td>False</td>\n",
       "      <td>False</td>\n",
       "      <td>False</td>\n",
       "      <td>False</td>\n",
       "      <td>True</td>\n",
       "    </tr>\n",
       "    <tr>\n",
       "      <th>1</th>\n",
       "      <td>False</td>\n",
       "      <td>False</td>\n",
       "      <td>False</td>\n",
       "      <td>True</td>\n",
       "      <td>False</td>\n",
       "      <td>False</td>\n",
       "      <td>False</td>\n",
       "      <td>False</td>\n",
       "      <td>False</td>\n",
       "      <td>False</td>\n",
       "      <td>False</td>\n",
       "      <td>True</td>\n",
       "    </tr>\n",
       "    <tr>\n",
       "      <th>2</th>\n",
       "      <td>False</td>\n",
       "      <td>False</td>\n",
       "      <td>True</td>\n",
       "      <td>False</td>\n",
       "      <td>False</td>\n",
       "      <td>False</td>\n",
       "      <td>False</td>\n",
       "      <td>False</td>\n",
       "      <td>False</td>\n",
       "      <td>False</td>\n",
       "      <td>False</td>\n",
       "      <td>True</td>\n",
       "    </tr>\n",
       "    <tr>\n",
       "      <th>3</th>\n",
       "      <td>False</td>\n",
       "      <td>False</td>\n",
       "      <td>False</td>\n",
       "      <td>False</td>\n",
       "      <td>False</td>\n",
       "      <td>False</td>\n",
       "      <td>False</td>\n",
       "      <td>False</td>\n",
       "      <td>False</td>\n",
       "      <td>False</td>\n",
       "      <td>False</td>\n",
       "      <td>True</td>\n",
       "    </tr>\n",
       "    <tr>\n",
       "      <th>4</th>\n",
       "      <td>False</td>\n",
       "      <td>False</td>\n",
       "      <td>False</td>\n",
       "      <td>False</td>\n",
       "      <td>False</td>\n",
       "      <td>False</td>\n",
       "      <td>False</td>\n",
       "      <td>False</td>\n",
       "      <td>False</td>\n",
       "      <td>False</td>\n",
       "      <td>False</td>\n",
       "      <td>True</td>\n",
       "    </tr>\n",
       "    <tr>\n",
       "      <th>5</th>\n",
       "      <td>False</td>\n",
       "      <td>False</td>\n",
       "      <td>False</td>\n",
       "      <td>False</td>\n",
       "      <td>False</td>\n",
       "      <td>False</td>\n",
       "      <td>False</td>\n",
       "      <td>False</td>\n",
       "      <td>False</td>\n",
       "      <td>False</td>\n",
       "      <td>False</td>\n",
       "      <td>True</td>\n",
       "    </tr>\n",
       "    <tr>\n",
       "      <th>6</th>\n",
       "      <td>False</td>\n",
       "      <td>False</td>\n",
       "      <td>True</td>\n",
       "      <td>False</td>\n",
       "      <td>False</td>\n",
       "      <td>False</td>\n",
       "      <td>False</td>\n",
       "      <td>False</td>\n",
       "      <td>False</td>\n",
       "      <td>False</td>\n",
       "      <td>False</td>\n",
       "      <td>True</td>\n",
       "    </tr>\n",
       "    <tr>\n",
       "      <th>7</th>\n",
       "      <td>False</td>\n",
       "      <td>False</td>\n",
       "      <td>False</td>\n",
       "      <td>False</td>\n",
       "      <td>False</td>\n",
       "      <td>False</td>\n",
       "      <td>False</td>\n",
       "      <td>False</td>\n",
       "      <td>False</td>\n",
       "      <td>False</td>\n",
       "      <td>False</td>\n",
       "      <td>True</td>\n",
       "    </tr>\n",
       "    <tr>\n",
       "      <th>8</th>\n",
       "      <td>False</td>\n",
       "      <td>False</td>\n",
       "      <td>False</td>\n",
       "      <td>False</td>\n",
       "      <td>False</td>\n",
       "      <td>False</td>\n",
       "      <td>False</td>\n",
       "      <td>False</td>\n",
       "      <td>False</td>\n",
       "      <td>False</td>\n",
       "      <td>False</td>\n",
       "      <td>True</td>\n",
       "    </tr>\n",
       "    <tr>\n",
       "      <th>9</th>\n",
       "      <td>False</td>\n",
       "      <td>False</td>\n",
       "      <td>False</td>\n",
       "      <td>False</td>\n",
       "      <td>False</td>\n",
       "      <td>False</td>\n",
       "      <td>False</td>\n",
       "      <td>False</td>\n",
       "      <td>False</td>\n",
       "      <td>False</td>\n",
       "      <td>False</td>\n",
       "      <td>True</td>\n",
       "    </tr>\n",
       "  </tbody>\n",
       "</table>\n",
       "</div>"
      ],
      "text/plain": [
       "   datetime   city  state  country  shape  duration (seconds)  \\\n",
       "0     False  False  False    False  False               False   \n",
       "1     False  False  False     True  False               False   \n",
       "2     False  False   True    False  False               False   \n",
       "3     False  False  False    False  False               False   \n",
       "4     False  False  False    False  False               False   \n",
       "5     False  False  False    False  False               False   \n",
       "6     False  False   True    False  False               False   \n",
       "7     False  False  False    False  False               False   \n",
       "8     False  False  False    False  False               False   \n",
       "9     False  False  False    False  False               False   \n",
       "\n",
       "   duration (hours/min)  comments  date posted  latitude  longitude  \\\n",
       "0                 False     False        False     False      False   \n",
       "1                 False     False        False     False      False   \n",
       "2                 False     False        False     False      False   \n",
       "3                 False     False        False     False      False   \n",
       "4                 False     False        False     False      False   \n",
       "5                 False     False        False     False      False   \n",
       "6                 False     False        False     False      False   \n",
       "7                 False     False        False     False      False   \n",
       "8                 False     False        False     False      False   \n",
       "9                 False     False        False     False      False   \n",
       "\n",
       "   Unnamed: 11  \n",
       "0         True  \n",
       "1         True  \n",
       "2         True  \n",
       "3         True  \n",
       "4         True  \n",
       "5         True  \n",
       "6         True  \n",
       "7         True  \n",
       "8         True  \n",
       "9         True  "
      ]
     },
     "execution_count": 257,
     "metadata": {},
     "output_type": "execute_result"
    }
   ],
   "source": [
    "#finding null values\n",
    "df.isnull().head(10)"
   ]
  },
  {
   "cell_type": "code",
   "execution_count": 258,
   "id": "1fd8b592",
   "metadata": {},
   "outputs": [],
   "source": [
    "# Drop missing shape + remove 'unknown'\n",
    "\n",
    "df = df.dropna(subset=['shape'])\n",
    "df = df[df['shape'].str.lower() != 'unknown']"
   ]
  },
  {
   "cell_type": "code",
   "execution_count": 259,
   "id": "ca1e62a1",
   "metadata": {},
   "outputs": [],
   "source": [
    "# Keep top 3 shapes for cleaner separation\n",
    "top_shapes = df['shape'].value_counts().nlargest(3).index\n",
    "df = df[df['shape'].isin(top_shapes)]\n"
   ]
  },
  {
   "cell_type": "code",
   "execution_count": 260,
   "id": "91dbcfd2",
   "metadata": {},
   "outputs": [],
   "source": [
    "# Fix latitude and longitude\n",
    "df['latitude'] = pd.to_numeric(df['latitude'], errors='coerce')\n",
    "df['longitude'] = pd.to_numeric(df['longitude'], errors='coerce')\n",
    "df['latitude'] = df['latitude'].fillna(df['latitude'].mean())\n",
    "df['longitude'] = df['longitude'].fillna(df['longitude'].mean())"
   ]
  },
  {
   "cell_type": "code",
   "execution_count": 261,
   "id": "1519eb38",
   "metadata": {},
   "outputs": [],
   "source": [
    "# Fill other nulls\n",
    "df['comments'] = df['comments'].fillna('')\n",
    "df['state'] = df['state'].fillna('unknown')\n",
    "df['city'] = df['city'].fillna('unknown')"
   ]
  },
  {
   "cell_type": "code",
   "execution_count": 262,
   "id": "43cc0af2",
   "metadata": {},
   "outputs": [],
   "source": [
    "# Label encode location\n",
    "state_enc = LabelEncoder()\n",
    "city_enc = LabelEncoder()\n",
    "df['state_encoded'] = state_enc.fit_transform(df['state'])\n",
    "df['city_encoded'] = city_enc.fit_transform(df['city'])"
   ]
  },
  {
   "cell_type": "code",
   "execution_count": 263,
   "id": "16c228c5",
   "metadata": {},
   "outputs": [],
   "source": [
    "# Encode target\n",
    "shape_enc = LabelEncoder()\n",
    "df['shape_encoded'] = shape_enc.fit_transform(df['shape'])"
   ]
  },
  {
   "cell_type": "code",
   "execution_count": 264,
   "id": "316cb542",
   "metadata": {},
   "outputs": [],
   "source": [
    "#Limit dataset to most recent 20,000 rows to speed up training\n",
    "df = df.tail(15000).reset_index(drop=True)"
   ]
  },
  {
   "cell_type": "code",
   "execution_count": 265,
   "id": "934793e2",
   "metadata": {},
   "outputs": [],
   "source": [
    "#resampling\n",
    "df_balanced = pd.DataFrame()\n",
    "min_samples = df['shape'].value_counts().min()\n",
    "\n",
    "for shape in df['shape'].unique():\n",
    "    subset = df[df['shape'] == shape]\n",
    "    df_balanced = pd.concat([\n",
    "        df_balanced,\n",
    "        resample(subset, replace=True, n_samples=min_samples, random_state=42)\n",
    "    ])\n",
    "\n",
    "df = df_balanced.sample(frac=1, random_state=42).reset_index(drop=True)\n"
   ]
  },
  {
   "cell_type": "code",
   "execution_count": 266,
   "id": "83ca9f22",
   "metadata": {},
   "outputs": [],
   "source": [
    "#TF-IDF on comments for making the comments in binary data\n",
    "vectorizer = TfidfVectorizer(max_features=500)  \n",
    "tfidf_matrix = vectorizer.fit_transform(df['comments']).toarray()\n",
    "tfidf_df = pd.DataFrame(tfidf_matrix, columns=vectorizer.get_feature_names_out())"
   ]
  },
  {
   "cell_type": "code",
   "execution_count": 267,
   "id": "0674ed09",
   "metadata": {},
   "outputs": [],
   "source": [
    "# Combine features for feature scaling\n",
    "features = pd.concat([\n",
    "    df[['latitude', 'longitude', 'state_encoded', 'city_encoded']].reset_index(drop=True),\n",
    "    tfidf_df.reset_index(drop=True)\n",
    "], axis=1)\n",
    "\n",
    "X = features\n",
    "y = df['shape_encoded']"
   ]
  },
  {
   "cell_type": "code",
   "execution_count": 268,
   "id": "c8f0d438",
   "metadata": {},
   "outputs": [],
   "source": [
    "# Scale features\n",
    "scaler = StandardScaler()\n",
    "X_scaled = scaler.fit_transform(X)\n",
    "\n",
    "X_train, X_test, y_train, y_test = train_test_split(\n",
    "    X_scaled, y, test_size=0.2, random_state=42, stratify=y\n",
    ")\n"
   ]
  },
  {
   "cell_type": "code",
   "execution_count": 269,
   "id": "862fcf43",
   "metadata": {},
   "outputs": [],
   "source": [
    "# Random Forest + Grid Search-hyperparameter tunning\n",
    "param_grid = {\n",
    "    'n_estimators': [100],\n",
    "    'max_depth': [10, None],\n",
    "    'min_samples_split': [2],\n",
    "    'class_weight': ['balanced']\n",
    "}\n"
   ]
  },
  {
   "cell_type": "code",
   "execution_count": 270,
   "id": "dd10bc8c",
   "metadata": {},
   "outputs": [],
   "source": [
    "rf = RandomForestClassifier(random_state=42)\n",
    "grid = GridSearchCV(rf, param_grid, cv=3, scoring='accuracy', n_jobs=-1)\n",
    "grid.fit(X_train, y_train)\n",
    "\n",
    "best_model = grid.best_estimator_"
   ]
  },
  {
   "cell_type": "code",
   "execution_count": 271,
   "id": "306fb545",
   "metadata": {},
   "outputs": [],
   "source": [
    "# Evaluation\n",
    "y_pred = best_model.predict(X_test)\n",
    "accuracy = accuracy_score(y_test, y_pred)\n",
    "report = classification_report(y_test, y_pred, target_names=shape_enc.classes_)"
   ]
  },
  {
   "cell_type": "code",
   "execution_count": 272,
   "id": "6689bd29",
   "metadata": {},
   "outputs": [
    {
     "name": "stdout",
     "output_type": "stream",
     "text": [
      "Best Parameters: {'class_weight': 'balanced', 'max_depth': None, 'min_samples_split': 2, 'n_estimators': 100}\n",
      "Accuracy: 85.37 %\n",
      "Classification Report:\n",
      "               precision    recall  f1-score   support\n",
      "\n",
      "      circle       0.82      0.83      0.83       686\n",
      "       light       0.82      0.83      0.82       686\n",
      "    triangle       0.92      0.91      0.91       686\n",
      "\n",
      "    accuracy                           0.85      2058\n",
      "   macro avg       0.85      0.85      0.85      2058\n",
      "weighted avg       0.85      0.85      0.85      2058\n",
      "\n"
     ]
    }
   ],
   "source": [
    "print(\"Best Parameters:\", grid.best_params_)\n",
    "print(\"Accuracy:\", round(accuracy * 100, 2), \"%\")\n",
    "print(\"Classification Report:\\n\", report)"
   ]
  },
  {
   "cell_type": "code",
   "execution_count": 273,
   "id": "994a8e49",
   "metadata": {},
   "outputs": [
    {
     "data": {
      "image/png": "[encoded data removed]",
      "text/plain": [
       "<Figure size 800x600 with 2 Axes>"
      ]
     },
     "metadata": {},
     "output_type": "display_data"
    }
   ],
   "source": [
    "# Confusion Matrix\n",
    "cm = confusion_matrix(y_test, y_pred)\n",
    "plt.figure(figsize=(8, 6))\n",
    "sns.heatmap(cm, annot=True, fmt='d', xticklabels=shape_enc.classes_, yticklabels=shape_enc.classes_, cmap=\"Blues\")\n",
    "plt.title(\"Confusion Matrix\")\n",
    "plt.xlabel(\"Predicted\")\n",
    "plt.ylabel(\"Actual\")\n",
    "plt.tight_layout()\n",
    "plt.show()"
   ]
  },
  {
   "cell_type": "code",
   "execution_count": 274,
   "id": "4f4c8be7",
   "metadata": {},
   "outputs": [],
   "source": [
    "# Feature Importance\n",
    "importances = best_model.feature_importances_\n",
    "indices = importances.argsort()[::-1][:10]\n",
    "top_features = [features.columns[i] for i in indices]\n",
    "top_importances = importances[indices]"
   ]
  },
  {
   "cell_type": "code",
   "execution_count": 275,
   "id": "1831b00f",
   "metadata": {},
   "outputs": [
    {
     "data": {
      "image/png": "[encoded data removed]",
      "text/plain": [
       "<Figure size 800x500 with 1 Axes>"
      ]
     },
     "metadata": {},
     "output_type": "display_data"
    }
   ],
   "source": [
    "#barplot\n",
    "plt.figure(figsize=(8, 5))\n",
    "sns.barplot(x=top_importances, y=top_features)\n",
    "plt.title(\"Top 10 Feature Importances\")\n",
    "plt.tight_layout()\n",
    "plt.show()"
   ]
  }
 ],
 "metadata": {
  "kernelspec": {
   "display_name": "Python 3",
   "language": "python",
   "name": "python3"
  },
  "language_info": {
   "codemirror_mode": {
    "name": "ipython",
    "version": 3
   },
   "file_extension": ".py",
   "mimetype": "text/x-python",
   "name": "python",
   "nbconvert_exporter": "python",
   "pygments_lexer": "ipython3",
   "version": "3.10.11"
  }
 },
 "nbformat": 4,
 "nbformat_minor": 5
}
